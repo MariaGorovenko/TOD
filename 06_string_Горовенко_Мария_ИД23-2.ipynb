{
 "cells": [
  {
   "cell_type": "markdown",
   "metadata": {},
   "source": [
    "# Работа со строковыми значениями"
   ]
  },
  {
   "cell_type": "markdown",
   "metadata": {},
   "source": [
    "__Автор задач: Блохин Н.В. (NVBlokhin@fa.ru)__\n",
    "\n",
    "Материалы:\n",
    "* Макрушин С.В. Лекция \"Работа со строковыми значениям\"\n",
    "* https://pyformat.info/\n",
    "* https://docs.python.org/3/library/re.html\n",
    "    * https://docs.python.org/3/library/re.html#flags\n",
    "    * https://docs.python.org/3/library/re.html#functions\n",
    "* https://pythonru.com/primery/primery-primeneniya-regulyarnyh-vyrazheniy-v-python\n",
    "* https://kanoki.org/2019/11/12/how-to-use-regex-in-pandas/\n",
    "* https://realpython.com/nltk-nlp-python/"
   ]
  },
  {
   "cell_type": "markdown",
   "metadata": {},
   "source": [
    "## Задачи для совместного разбора"
   ]
  },
  {
   "cell_type": "markdown",
   "metadata": {},
   "source": [
    "1. Вывести на экран данные из словаря `obj` построчно в виде `k = v`, задав формат таким образом, чтобы знак равенства оказался на одной и той же позиции во всех строках. Строковые литералы обернуть в кавычки."
   ]
  },
  {
   "cell_type": "code",
   "execution_count": 1,
   "metadata": {},
   "outputs": [],
   "source": [
    "obj = {\n",
    "    \"home_page\": \"https://github.com/pypa/sampleproject\",\n",
    "    \"keywords\": \"sample setuptools development\",\n",
    "    \"license\": \"MIT\",\n",
    "}"
   ]
  },
  {
   "cell_type": "markdown",
   "metadata": {},
   "source": [
    "2. Написать регулярное выражение,которое позволит найти номера групп студентов."
   ]
  },
  {
   "cell_type": "code",
   "execution_count": 4,
   "metadata": {},
   "outputs": [
    {
     "data": {
      "text/plain": [
       "0    Евгения гр.ПМ19-1\n",
       "1         Илья пм 20-4\n",
       "2            Анна 20-3\n",
       "dtype: object"
      ]
     },
     "execution_count": 4,
     "metadata": {},
     "output_type": "execute_result"
    }
   ],
   "source": [
    "obj = pd.Series([\"Евгения гр.ПМ19-1\", \"Илья пм 20-4\", \"Анна 20-3\"])\n",
    "obj"
   ]
  },
  {
   "cell_type": "markdown",
   "metadata": {},
   "source": [
    "3. Разбейте текст формулировки задачи 2 на слова."
   ]
  },
  {
   "cell_type": "markdown",
   "metadata": {},
   "source": [
    "## Лабораторная работа 6"
   ]
  },
  {
   "cell_type": "markdown",
   "metadata": {},
   "source": [
    "### Форматирование строк"
   ]
  },
  {
   "cell_type": "markdown",
   "metadata": {},
   "source": [
    "1\\. Загрузите данные из файла `recipes_sample.csv` (__ЛР2__) в виде `pd.DataFrame` `recipes` При помощи форматирования строк выведите информацию об id рецепта и времени выполнения 5 случайных рецептов в виде таблицы следующего вида:\n",
    "\n",
    "    \n",
    "    |      id      |  minutes  |\n",
    "    |--------------------------|\n",
    "    |    61178     |    65     |\n",
    "    |    202352    |    80     |\n",
    "    |    364322    |    150    |\n",
    "    |    26177     |    20     |\n",
    "    |    224785    |    35     |\n",
    "    \n",
    "Обратите внимание, что ширина столбцов заранее неизвестна и должна рассчитываться динамически, в зависимости от тех данных, которые были выбраны. "
   ]
  },
  {
   "cell_type": "code",
   "execution_count": 1,
   "metadata": {},
   "outputs": [],
   "source": [
    "import pandas as pd\n",
    "\n",
    "reviews = pd.read_csv('reviews_sample.csv')\n",
    "recipes = pd.read_csv('recipes_sample.csv')"
   ]
  },
  {
   "cell_type": "code",
   "execution_count": 2,
   "metadata": {},
   "outputs": [
    {
     "name": "stdout",
     "output_type": "stream",
     "text": [
      "           id  minutes\n",
      "18371  379733     1450\n",
      "24925  273365       25\n",
      "24700  242772      200\n",
      "11157  151963       20\n",
      "18434  323886       75\n"
     ]
    }
   ],
   "source": [
    "import random\n",
    "recipes = recipes[['id', 'minutes']]\n",
    "random_recipes = recipes.sample(5)\n",
    "print(random_recipes)"
   ]
  },
  {
   "cell_type": "code",
   "execution_count": 3,
   "metadata": {},
   "outputs": [
    {
     "name": "stdout",
     "output_type": "stream",
     "text": [
      "|    id    |  minutes  |\n",
      "|----------------------|\n",
      "|  379733  |   1450    |\n",
      "|  273365  |    25     |\n",
      "|  242772  |    200    |\n",
      "|  151963  |    20     |\n",
      "|  323886  |    75     |\n"
     ]
    }
   ],
   "source": [
    "column1 = max([len(str(random_recipes.loc[i]['id'])) for i in random_recipes.index]) + 4\n",
    "column2 = len('minutes') + max([len(str(random_recipes.loc[i]['minutes'])) for i in random_recipes.index])\n",
    "\n",
    "print(f'|{\"id\": ^{column1}}|{\"minutes\": ^{column2}}|')\n",
    "print('|' + '-'*(column1+column2+1) + '|')\n",
    "\n",
    "for i in random_recipes.index:\n",
    "    a = random_recipes.loc[i]['id']\n",
    "    b = random_recipes.loc[i]['minutes']\n",
    "    print(f'|{a: ^{column1}}|{b: ^{column2}}|')"
   ]
  },
  {
   "cell_type": "markdown",
   "metadata": {},
   "source": [
    "2\\. Напишите функцию `show_info`, которая по данным о рецепте создает строку (в смысле объекта python) с описанием следующего вида:\n",
    "\n",
    "```\n",
    "\"Название Из Нескольких Слов\"\n",
    "\n",
    "1. Шаг 1\n",
    "2. Шаг 2\n",
    "----------\n",
    "Автор: contributor_id\n",
    "Среднее время приготовления: minutes минут\n",
    "```\n",
    "\n",
    "    \n",
    "Данные для создания строки получите из файлов `recipes_sample.csv` (__ЛР2__) и `steps_sample.xml` (__ЛР3__). \n",
    "Вызовите данную функцию для рецепта с id `170895` и выведите (через `print`) полученную строку на экран."
   ]
  },
  {
   "cell_type": "code",
   "execution_count": 4,
   "metadata": {},
   "outputs": [],
   "source": [
    "import requests\n",
    "from bs4 import BeautifulSoup\n",
    "\n",
    "with open('steps_sample.xml') as f:\n",
    "    steps_sample = BeautifulSoup(f, 'xml')\n",
    "    \n",
    "recipes = pd.read_csv('recipes_sample.csv')\n",
    "\n",
    "def show_info(id_rec):\n",
    "    needed_rec = recipes[recipes.id == id_rec]\n",
    "    name_rec = needed_rec.name.values[0]\n",
    "    \n",
    "    steps_dict = {}\n",
    "    for recipe in steps_sample.find_all('recipe'):\n",
    "        recipe_id = int(recipe.id.text)\n",
    "        steps = [step.text for step in recipe.find_all('step')]\n",
    "        steps_dict[recipe_id] = steps\n",
    "            \n",
    "    cont_id = needed_rec.contributor_id.values[0]\n",
    "    minutes = needed_rec.minutes.values[0]\n",
    "    \n",
    "    steps_info = '\\n '.join([f\"{index+1}: {step}\" for index, step in enumerate(steps_dict[id_rec])])\n",
    "\n",
    "    print(f'{name_rec}\\n {steps_info}\\n----------\\nАвтор: {cont_id}\\nСреднее время приготовления: {minutes} минут')"
   ]
  },
  {
   "cell_type": "code",
   "execution_count": 5,
   "metadata": {},
   "outputs": [
    {
     "name": "stdout",
     "output_type": "stream",
     "text": [
      "leeks and parsnips  sauteed or creamed\n",
      " 1: clean the leeks and discard the dark green portions\n",
      " 2: cut the leeks lengthwise then into one-inch pieces\n",
      " 3: melt the butter in a medium skillet , med\n",
      " 4: heat\n",
      " 5: add the garlic and fry 'til fragrant\n",
      " 6: add leeks and fry until the leeks are tender , about 6-minutes\n",
      " 7: meanwhile , peel and chunk the parsnips into one-inch pieces\n",
      " 8: place in a steaming basket and steam 'til they are as tender as you prefer\n",
      " 9: i like them fork-tender\n",
      " 10: drain parsnips and add to the skillet with the leeks\n",
      " 11: add salt and pepper\n",
      " 12: gently sautee together for 5-minutes\n",
      " 13: at this point you can serve it , or continue on and cream it:\n",
      " 14: in a jar with a screw top , add the half-n-half and arrowroot\n",
      " 15: shake 'til blended\n",
      " 16: turn heat to low under the leeks and parsnips\n",
      " 17: pour in the arrowroot mixture , stirring gently as you pour\n",
      " 18: if too thick , gradually add the water\n",
      " 19: let simmer for a couple of minutes\n",
      " 20: taste to adjust seasoning , probably an additional 1 / 2 teaspoon salt\n",
      " 21: serve warm\n",
      "----------\n",
      "Автор: 8377\n",
      "Среднее время приготовления: 27 минут\n"
     ]
    }
   ],
   "source": [
    "show_info(170895)"
   ]
  },
  {
   "cell_type": "markdown",
   "metadata": {},
   "source": [
    "## Работа с регулярными выражениями"
   ]
  },
  {
   "cell_type": "markdown",
   "metadata": {},
   "source": [
    "3\\. Напишите регулярное выражение, которое ищет следующий паттерн в строке: число (1 цифра или более), затем пробел, затем слова: hour или hours или minute или minutes. Произведите поиск по данному регулярному выражению в каждом шаге рецепта с id 25082. Выведите на экран все непустые результаты, найденные по данному шаблону."
   ]
  },
  {
   "cell_type": "code",
   "execution_count": 6,
   "metadata": {},
   "outputs": [
    {
     "name": "stdout",
     "output_type": "stream",
     "text": [
      "turn out onto a lightly floured board and knead for about 20 minutes , adding flour as nescessary to keep the dough from sticking to the board\n",
      "when it has been sufficiently kneaded , cover it with a damp cloth for about 10 minutes and wash and grease the bowl lightly\n",
      "let the dough rise until it springs back when you stick your finger in it , and it is about twice the size as it was before (this takes about 2 hours\n",
      "when the dough has risen twice , deflate it again and cover it with the damp cloth again for about 10 minutes , then divide it into and shape it into loaves , buns , etc\n",
      "bake at 400 for 20 minutes , and then turn the oven down to 350 and bake for 20-30 minutes longer , until the loaf is a lovely brown and sounds hollow when you thump it on the bottom\n"
     ]
    }
   ],
   "source": [
    "import re\n",
    "\n",
    "p = re.compile(r'\\d+\\s(hours|hour|minutes|minute)')\n",
    "\n",
    "steps_dict = {}\n",
    "for recipe in steps_sample.find_all('recipe'):\n",
    "    recipe_id = int(recipe.id.text)\n",
    "    steps = [step.text for step in recipe.find_all('step')]\n",
    "    steps_dict[recipe_id] = steps\n",
    "for step in steps_dict[25082]:\n",
    "    if bool(p.search(step)):\n",
    "        print(step)"
   ]
  },
  {
   "cell_type": "markdown",
   "metadata": {},
   "source": [
    "4\\. Напишите регулярное выражение, которое ищет шаблон вида \"this..., but\" _в начале строки_ . Между словом \"this\" и частью \", but\" может находиться произвольное число букв, цифр, знаков подчеркивания и пробелов. Никаких других символов вместо многоточия быть не может. Пробел между запятой и словом \"but\" может присутствовать или отсутствовать.\n",
    "\n",
    "Используя строковые методы `pd.Series`, выясните, для каких рецептов данный шаблон содержится в тексте описания. Выведите на экран количество таких рецептов и 3 примера подходящих описаний (текст описания должен быть виден на экране полностью)."
   ]
  },
  {
   "cell_type": "code",
   "execution_count": 7,
   "metadata": {},
   "outputs": [
    {
     "data": {
      "text/plain": [
       "(134,\n",
       " 76     this is a great meal eaten the same day ,but e...\n",
       " 183    this was adapted from a recipe i found on the ...\n",
       " 337    this is kind of similar to some of the other v...\n",
       " Name: description, dtype: object)"
      ]
     },
     "execution_count": 7,
     "metadata": {},
     "output_type": "execute_result"
    }
   ],
   "source": [
    "p = re.compile(r'^this[\\w\\d\\s]+,[ ]?but')\n",
    "\n",
    "# Заполнить пропущенные значения пустой строкой, чтоб они не мешали работе метода .str.contains\n",
    "recipes['description'] = recipes['description'].fillna('')\n",
    "\n",
    "bool_mask = recipes['description'].str.contains(p)\n",
    "filtered_description = recipes[bool_mask]['description']\n",
    "\n",
    "len(filtered_description), filtered_description[:3]"
   ]
  },
  {
   "cell_type": "markdown",
   "metadata": {},
   "source": [
    "5\\. В текстах шагов рецептов обыкновенные дроби имеют вид \"a / b\". Используя регулярные выражения, уберите в тексте шагов рецепта с id 72367 пробелы до и после символа дроби. Выведите на экран шаги этого рецепта после их изменения."
   ]
  },
  {
   "cell_type": "code",
   "execution_count": 8,
   "metadata": {},
   "outputs": [
    {
     "name": "stdout",
     "output_type": "stream",
     "text": [
      "mix butter , flour , 1 / 3 c\n",
      "mix butter , flour , 1 / 3 c\n",
      "sugar and 1-1 / 4 t\n",
      "sugar and 1-1 / 4 t\n",
      "mix cream cheese , 1 / 4 c\n",
      "mix cream cheese , 1 / 4 c\n",
      "sugar , eggs and 1 / 2 t\n",
      "sugar , eggs and 1 / 2 t\n",
      "combine apples , 1 / 3 c\n",
      "combine apples , 1 / 3 c\n"
     ]
    }
   ],
   "source": [
    "for step in steps_dict[72367]:\n",
    "    if re.search(r'\\d+\\s\\/\\s\\d+', step):\n",
    "        print(step)\n",
    "        re.sub(r'(\\d+)\\s\\/\\s(\\d+)', r'\\1\\/\\2', step)\n",
    "        print(step)"
   ]
  },
  {
   "cell_type": "markdown",
   "metadata": {},
   "source": [
    "### Сегментация текста"
   ]
  },
  {
   "cell_type": "code",
   "execution_count": 9,
   "metadata": {},
   "outputs": [
    {
     "name": "stdout",
     "output_type": "stream",
     "text": [
      "Requirement already satisfied: nltk in /Users/test/anaconda3/lib/python3.11/site-packages (3.8.1)\n",
      "Requirement already satisfied: click in /Users/test/anaconda3/lib/python3.11/site-packages (from nltk) (8.0.4)\n",
      "Requirement already satisfied: joblib in /Users/test/anaconda3/lib/python3.11/site-packages (from nltk) (1.2.0)\n",
      "Requirement already satisfied: regex>=2021.8.3 in /Users/test/anaconda3/lib/python3.11/site-packages (from nltk) (2022.7.9)\n",
      "Requirement already satisfied: tqdm in /Users/test/anaconda3/lib/python3.11/site-packages (from nltk) (4.65.0)\n",
      "Note: you may need to restart the kernel to use updated packages.\n"
     ]
    }
   ],
   "source": [
    "pip install nltk"
   ]
  },
  {
   "cell_type": "markdown",
   "metadata": {},
   "source": [
    "6\\. Разбейте тексты шагов рецептов на слова при помощи пакета `nltk`. Посчитайте и выведите на экран кол-во уникальных слов среди всех рецептов. Словом называется любая последовательность алфавитных символов (для проверки можно воспользоваться `str.isalpha`). При подсчете количества уникальных слов не учитывайте регистр."
   ]
  },
  {
   "cell_type": "code",
   "execution_count": 10,
   "metadata": {},
   "outputs": [
    {
     "name": "stderr",
     "output_type": "stream",
     "text": [
      "[nltk_data] Downloading package punkt to /Users/test/nltk_data...\n",
      "[nltk_data]   Package punkt is already up-to-date!\n",
      "[nltk_data] Downloading package averaged_perceptron_tagger to\n",
      "[nltk_data]     /Users/test/nltk_data...\n",
      "[nltk_data]   Package averaged_perceptron_tagger is already up-to-\n",
      "[nltk_data]       date!\n"
     ]
    }
   ],
   "source": [
    "import nltk\n",
    "nltk.download('punkt')\n",
    "nltk.download('averaged_perceptron_tagger')\n",
    "from nltk.tokenize import word_tokenize, sent_tokenize\n",
    "from nltk import pos_tag\n",
    "from collections import defaultdict\n",
    "import requests\n",
    "from bs4 import BeautifulSoup\n",
    "import pandas as pd"
   ]
  },
  {
   "cell_type": "code",
   "execution_count": 12,
   "metadata": {},
   "outputs": [
    {
     "name": "stdout",
     "output_type": "stream",
     "text": [
      "Количество уникальных слов среди всех рецептов: 14926\n"
     ]
    }
   ],
   "source": [
    "with open('steps_sample.xml') as f:\n",
    "    steps_sample = BeautifulSoup(f, 'xml')\n",
    "    \n",
    "id_recipes = defaultdict(list) \n",
    "for recipe in steps_sample.find_all('recipe'):\n",
    "    for steps_list in [step.text for step in recipe.find_all('step')]:\n",
    "        id_recipes[recipe.find('id').text].append(steps_list)\n",
    "\n",
    "# Преобразование текстов шагов рецептов в одну строку\n",
    "all_steps = ' '.join([step for steps_list in id_recipes.values() for step in steps_list])\n",
    "\n",
    "# Токенизация текста на слова\n",
    "words = word_tokenize(all_steps)\n",
    "\n",
    "# Преобразование всех слов в нижний регистр\n",
    "words = [word.lower() for word in words if word.isalpha()]\n",
    "\n",
    "# Подсчет уникальных слов\n",
    "unique_words = set(words)\n",
    "num_unique_words = len(unique_words)\n",
    "\n",
    "print(\"Количество уникальных слов среди всех рецептов:\", num_unique_words)"
   ]
  },
  {
   "cell_type": "markdown",
   "metadata": {},
   "source": [
    "7\\. Разбейте описания рецептов из `recipes` на предложения при помощи пакета `nltk`. Найдите 5 самых длинных описаний (по количеству _предложений_) рецептов в датасете и выведите строки фрейма, соответствующие этим рецептами, в порядке убывания длины."
   ]
  },
  {
   "cell_type": "code",
   "execution_count": 13,
   "metadata": {},
   "outputs": [
    {
     "name": "stdout",
     "output_type": "stream",
     "text": [
      "                                                    name      id  minutes  \\\n",
      "18408       my favorite buttercream icing for decorating  334113       30   \n",
      "481    alligator claws  avocado fritters  with chipot...  287008       45   \n",
      "22566                          rich barley mushroom soup  328708       60   \n",
      "6779                                       chocolate tea  205348        6   \n",
      "16296  little bunny foo foo cake  carrot cake  with c...  316000       68   \n",
      "\n",
      "       contributor_id   submitted  n_steps  \\\n",
      "18408          681465  2008-10-30     12.0   \n",
      "481            765354  2008-02-19      NaN   \n",
      "22566          221776  2008-10-03      NaN   \n",
      "6779           428824  2007-01-14      NaN   \n",
      "16296          689540  2008-07-27     14.0   \n",
      "\n",
      "                                             description  n_ingredients  \\\n",
      "18408  this wonderful icing is used for icing cakes a...            NaN   \n",
      "481    a translucent golden-brown crust allows the gr...            9.0   \n",
      "22566  this is one of the best soups i've ever made a...           10.0   \n",
      "6779   i wrote this because there are an astounding l...            NaN   \n",
      "16296  the first time i made this cake i grated a mil...            NaN   \n",
      "\n",
      "       n_sentences  \n",
      "18408           76  \n",
      "481             27  \n",
      "22566           24  \n",
      "6779            23  \n",
      "16296           23  \n"
     ]
    }
   ],
   "source": [
    "# Загрузка данных из CSV файла\n",
    "data = pd.read_csv('recipes_sample.csv')\n",
    "\n",
    "# Функция для подсчета количества предложений в описании\n",
    "def count_sentences(description):\n",
    "    if isinstance(description, str):\n",
    "        return len(sent_tokenize(description))\n",
    "    return 0\n",
    "\n",
    "# Применение функции к столбцу 'description'\n",
    "data['n_sentences'] = data['description'].apply(count_sentences)\n",
    "\n",
    "# Сортировка данных по убыванию количества предложений\n",
    "sorted_data = data.sort_values(by='n_sentences', ascending=False)\n",
    "\n",
    "# Вывод 5 самых длинных описаний\n",
    "top_5_longest_descriptions = sorted_data.head(5)\n",
    "\n",
    "# Вывод результатов\n",
    "print(top_5_longest_descriptions)\n"
   ]
  },
  {
   "cell_type": "markdown",
   "metadata": {},
   "source": [
    "8\\. Напишите функцию, которая для заданного предложения выводит информацию о частях речи слов, входящих в предложение, в следующем виде:\n",
    "```\n",
    "PRP   VBD   DT      NNS     CC   VBD      NNS        RB   \n",
    " I  omitted the raspberries and added strawberries instead\n",
    "``` \n",
    "Для определения части речи слова можно воспользоваться `nltk.pos_tag`.\n",
    "\n",
    "Проверьте работоспособность функции на названии рецепта с id 241106.\n",
    "\n",
    "Обратите внимание, что часть речи должна находиться ровно посередине над соотвествующим словом, а между самими словами должен быть ровно один пробел.\n"
   ]
  },
  {
   "cell_type": "code",
   "execution_count": 14,
   "metadata": {},
   "outputs": [
    {
     "name": "stdout",
     "output_type": "stream",
     "text": [
      "eggplant (JJ) steaks (NNS) with (IN) chickpeas (NNS) feta (VBP) cheese (JJ) and (CC) black (JJ) olives (NNS) \n"
     ]
    }
   ],
   "source": [
    "# Загрузка данных из файла CSV\n",
    "df = pd.read_csv('recipes_sample.csv')\n",
    "\n",
    "def get_pos_tags_for_recipe(recipe_id):\n",
    "    recipe_row = df[df['id'] == recipe_id]\n",
    "    if not recipe_row.empty:\n",
    "        recipe_name = recipe_row['name'].values[0]\n",
    "        tokens = word_tokenize(recipe_name) # Название рецепта разбивается на токены (слова)\n",
    "        tags = pos_tag(tokens) # Для каждого токена определяется часть речи\n",
    "        tagged_recipe_name = \"\"\n",
    "        for word, tag in tags:\n",
    "            tagged_recipe_name += f\"{word} ({tag}) \"\n",
    "        return tagged_recipe_name\n",
    "    else:\n",
    "        return \"Рецепт с таким ID не найден в базе данных.\"\n",
    "\n",
    "# Пример использования\n",
    "recipe_id = 241106\n",
    "tagged_recipe_name = get_pos_tags_for_recipe(recipe_id)\n",
    "print(tagged_recipe_name)"
   ]
  },
  {
   "cell_type": "code",
   "execution_count": null,
   "metadata": {},
   "outputs": [],
   "source": []
  }
 ],
 "metadata": {
  "kernelspec": {
   "display_name": "Python 3 (ipykernel)",
   "language": "python",
   "name": "python3"
  },
  "language_info": {
   "codemirror_mode": {
    "name": "ipython",
    "version": 3
   },
   "file_extension": ".py",
   "mimetype": "text/x-python",
   "name": "python",
   "nbconvert_exporter": "python",
   "pygments_lexer": "ipython3",
   "version": "3.11.4"
  }
 },
 "nbformat": 4,
 "nbformat_minor": 4
}
